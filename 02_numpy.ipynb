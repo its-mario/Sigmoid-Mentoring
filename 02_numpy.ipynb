{
 "cells": [
  {
   "metadata": {
    "ExecuteTime": {
     "end_time": "2024-09-13T07:43:15.309994Z",
     "start_time": "2024-09-13T07:43:15.264036Z"
    }
   },
   "cell_type": "code",
   "source": "import numpy as np",
   "id": "b2a3d012e700b24f",
   "outputs": [],
   "execution_count": 1
  },
  {
   "cell_type": "code",
   "id": "initial_id",
   "metadata": {
    "collapsed": true,
    "ExecuteTime": {
     "end_time": "2024-09-13T12:00:24.072397Z",
     "start_time": "2024-09-13T12:00:24.062148Z"
    }
   },
   "source": [
    "# normal distribution formula using numpy\n",
    "def normal_distribution(x:float, mean:float, std: float):\n",
    "    return (1/(std * np.sqrt(2* np.pi))) * np.exp((-1/2) * (x - mean/std) ** 2)"
   ],
   "outputs": [],
   "execution_count": 3
  },
  {
   "metadata": {
    "ExecuteTime": {
     "end_time": "2024-09-13T12:00:25.156570Z",
     "start_time": "2024-09-13T12:00:25.154114Z"
    }
   },
   "cell_type": "code",
   "source": [
    "# sigmoid function\n",
    "def sigmoid(y : float):\n",
    "    return 1/1+np.exp(-y)"
   ],
   "id": "11aa98cd8f17e31c",
   "outputs": [],
   "execution_count": 4
  },
  {
   "metadata": {
    "ExecuteTime": {
     "end_time": "2024-09-13T12:00:25.609518Z",
     "start_time": "2024-09-13T12:00:25.606848Z"
    }
   },
   "cell_type": "code",
   "source": [
    "def logistic_regression(w: np.array, x: np.array, y: np.array, y_pred:np.array, a: float) -> np.array:\n",
    "    rows, columns = x.shape\n",
    "    return w - a * (1/rows) * (y_pred - y) * x"
   ],
   "id": "2341ed22b823fba1",
   "outputs": [],
   "execution_count": 5
  },
  {
   "metadata": {
    "ExecuteTime": {
     "end_time": "2024-09-13T12:00:25.945055Z",
     "start_time": "2024-09-13T12:00:25.943078Z"
    }
   },
   "cell_type": "code",
   "source": [
    "def mean_squared_error(target :np.array, prediction:np.array):\n",
    "    n = len(target)\n",
    "    return (1/n) * np.sum(np.power(prediction - target, 2))"
   ],
   "id": "43418902589788fe",
   "outputs": [],
   "execution_count": 6
  },
  {
   "metadata": {
    "ExecuteTime": {
     "end_time": "2024-09-13T12:00:26.323466Z",
     "start_time": "2024-09-13T12:00:26.321265Z"
    }
   },
   "cell_type": "code",
   "source": [
    "def binary_cross_entropy(target: np.array, predictions: np.array):\n",
    "    n = len(target)\n",
    "    return np.sum(target * np.log(predictions) + (1 - target) * np.log(1 - predictions))"
   ],
   "id": "c7aa80a26aed217d",
   "outputs": [],
   "execution_count": 7
  },
  {
   "metadata": {},
   "cell_type": "code",
   "outputs": [],
   "execution_count": null,
   "source": "",
   "id": "b8d056abd1840fd7"
  }
 ],
 "metadata": {
  "kernelspec": {
   "display_name": "Python 3",
   "language": "python",
   "name": "python3"
  },
  "language_info": {
   "codemirror_mode": {
    "name": "ipython",
    "version": 2
   },
   "file_extension": ".py",
   "mimetype": "text/x-python",
   "name": "python",
   "nbconvert_exporter": "python",
   "pygments_lexer": "ipython2",
   "version": "2.7.6"
  }
 },
 "nbformat": 4,
 "nbformat_minor": 5
}
